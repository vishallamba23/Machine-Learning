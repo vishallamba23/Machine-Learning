{
 "cells": [
  {
   "cell_type": "code",
   "execution_count": 1,
   "metadata": {
    "collapsed": false
   },
   "outputs": [
    {
     "ename": "SystemExit",
     "evalue": "",
     "output_type": "error",
     "traceback": [
      "An exception has occurred, use %tb to see the full traceback.\n",
      "\u001b[0;31mSystemExit\u001b[0m\n"
     ]
    },
    {
     "name": "stderr",
     "output_type": "stream",
     "text": [
      "C:\\Users\\asus\\Anaconda3\\lib\\site-packages\\IPython\\core\\interactiveshell.py:2889: UserWarning: To exit: use 'exit', 'quit', or Ctrl-D.\n",
      "  warn(\"To exit: use 'exit', 'quit', or Ctrl-D.\", stacklevel=1)\n"
     ]
    }
   ],
   "source": [
    "import pygame \n",
    "from pygame.locals import *\n",
    "import sys\n",
    "pygame.init()\n",
    "\n",
    "SCREEN_SIZE = (640, 480)\n",
    "contra = 'contra.mp3'\n",
    "music = 'chiptune1.mp3'\n",
    "x, y = 300, 240\n",
    "move_x, move_y = 0,0\n",
    "d = 1\n",
    "big_font = pygame.font.SysFont('onyx', 80)\n",
    "small_font = pygame.font.SysFont('onyx', 20)\n",
    "\n",
    "screen = pygame.display.set_mode(SCREEN_SIZE, 0, 32)\n",
    "pygame.display.set_caption('The Moving Box')\n",
    "\n",
    "title_screen = big_font.render('The Moving Box', False, (255,255,255), (0,0,0))\n",
    "go_to_game = small_font.render('Press any key to start', False, (255,255,255), (0,0,0))\n",
    "\n",
    "def checkForKeyPress():\n",
    "\n",
    "    for event in pygame.event.get([KEYDOWN, KEYUP]):\n",
    "        if event.type == KEYDOWN:\n",
    "            continue\n",
    "        return event.key\n",
    "    return None\n",
    "\n",
    "pygame.mixer.music.load(contra)\n",
    "pygame.mixer.music.play(1)\n",
    "\n",
    "while checkForKeyPress() == None:\n",
    "    for event in pygame.event.get():\n",
    "        if event.type == QUIT:\n",
    "            pygame.mixer.music.stop()\n",
    "            pygame.quit()\n",
    "            sys.exit()\n",
    "            \n",
    "    screen.blit(title_screen, (170, 170))\n",
    "    screen.blit(go_to_game, (260, 300))\n",
    "    pygame.display.update()\n",
    "\n",
    "\n",
    "        \n",
    "buffer_screen = pygame.Surface(screen.get_size())\n",
    "tet = pygame.draw.rect(buffer_screen, (255, 255,0), (0,0,20,20))\n",
    "FULLSCREEN = False\n",
    "\n",
    "pygame.mixer.music.load(music)\n",
    "pygame.mixer.music.play(-1)\n",
    "\n",
    "while True:\n",
    "    \n",
    "    \n",
    "    for event in pygame.event.get():\n",
    "        if event.type == QUIT:\n",
    "            pygame.mixer.music.stop()\n",
    "            pygame.quit()\n",
    "            sys.exit()\n",
    "        \n",
    "        if event.type == KEYDOWN:\n",
    "            if event.key == K_LEFT:\n",
    "                move_x = -d\n",
    "            if event.key == K_RIGHT:\n",
    "                move_x = +d\n",
    "            if event.key == K_DOWN:\n",
    "                move_y = +d\n",
    "            if event.key == K_UP:\n",
    "                move_y = -d\n",
    "            if event.key == K_ESCAPE:\n",
    "                pygame.quit()\n",
    "                exit()\n",
    "            if event.key == K_f:\n",
    "                FULLSCREEN = not FULLSCREEN\n",
    "                if FULLSCREEN:\n",
    "                    screen = pygame.display.set_mode((1024, 720), FULLSCREEN, 32)\n",
    "                else:\n",
    "                    screen = pygame.display.set_mode(SCREEN_SIZE, 0, 32)\n",
    "                \n",
    "                \n",
    "        if event.type == KEYUP:\n",
    "            if event.key == K_LEFT:\n",
    "                move_x = 0\n",
    "            if event.key == K_RIGHT:\n",
    "                move_x = 0\n",
    "            if event.key == K_DOWN:\n",
    "                move_y = 0\n",
    "            if event.key == K_UP:\n",
    "                move_y = 0\n",
    "                \n",
    "                \n",
    "    \n",
    "    x += move_x\n",
    "    y += move_y\n",
    "    \n",
    "    if x > SCREEN_SIZE[0] - 20:            \n",
    "        x = SCREEN_SIZE[0] - 20\n",
    "    if x < 0:\n",
    "        x = 0\n",
    "    \n",
    "    if y > SCREEN_SIZE[1] - 20:\n",
    "        y = SCREEN_SIZE[1] - 20\n",
    "    if y < 0:\n",
    "        y = 0\n",
    "    \n",
    "#    my_event = pg.event.Event(KEYDOWN, key = K_DOWN)\n",
    "#    pg.event.post(my_event)\n",
    "                                   \n",
    "    screen.fill((0,0,0))        \n",
    "    screen.blit(buffer_screen, (x,y,20,20))\n",
    "    pygame.display.update()\n",
    "\n",
    "\n",
    "\n"
   ]
  },
  {
   "cell_type": "code",
   "execution_count": 2,
   "metadata": {
    "collapsed": false
   },
   "outputs": [
    {
     "ename": "SystemExit",
     "evalue": "",
     "output_type": "error",
     "traceback": [
      "An exception has occurred, use %tb to see the full traceback.\n",
      "\u001b[0;31mSystemExit\u001b[0m\n"
     ]
    },
    {
     "name": "stderr",
     "output_type": "stream",
     "text": [
      "C:\\Users\\asus\\Anaconda3\\lib\\site-packages\\IPython\\core\\interactiveshell.py:2889: UserWarning: To exit: use 'exit', 'quit', or Ctrl-D.\n",
      "  warn(\"To exit: use 'exit', 'quit', or Ctrl-D.\", stacklevel=1)\n"
     ]
    }
   ],
   "source": [
    "import pygame\n",
    "from pygame.locals import *\n",
    "import sys\n",
    "\n",
    "pygame.init()\n",
    "size = int(100)\n",
    "\n",
    "SCREEN_SIZE = (640, 480)\n",
    "\n",
    "screen = pygame.display.set_mode(SCREEN_SIZE)\n",
    "\n",
    "font = pygame.font.SysFont('onyx', 100)\n",
    "title_screen = font.render('STAR WARS', True, (255, 255, 0), (0,0,0) )\n",
    "\n",
    "\n",
    "x = ((SCREEN_SIZE[1] - 100) / 2 )\n",
    "y = SCREEN_SIZE[0]\n",
    "\n",
    "while True:\n",
    "       \n",
    "    for event in pygame.event.get():\n",
    "        if event.type == QUIT:\n",
    "            pygame.quit()\n",
    "            sys.exit()\n",
    "    \n",
    "    y -= 0.1\n",
    "\n",
    "    screen.fill((0,0,0))\n",
    "    screen.blit(title_screen, (x, y))\n",
    "    pygame.display.update()\n",
    "\n",
    "\n",
    "\n",
    "\n"
   ]
  },
  {
   "cell_type": "code",
   "execution_count": 1,
   "metadata": {
    "collapsed": false
   },
   "outputs": [
    {
     "ename": "NameError",
     "evalue": "name 'sys' is not defined",
     "output_type": "error",
     "traceback": [
      "\u001b[0;31m---------------------------------------------------------------------------\u001b[0m",
      "\u001b[0;31mNameError\u001b[0m                                 Traceback (most recent call last)",
      "\u001b[0;32m<ipython-input-1-c60d23f7ca59>\u001b[0m in \u001b[0;36m<module>\u001b[0;34m()\u001b[0m\n\u001b[1;32m     16\u001b[0m         \u001b[1;32mif\u001b[0m \u001b[0mevent\u001b[0m\u001b[1;33m.\u001b[0m\u001b[0mtype\u001b[0m \u001b[1;33m==\u001b[0m \u001b[0mQUIT\u001b[0m\u001b[1;33m:\u001b[0m\u001b[1;33m\u001b[0m\u001b[0m\n\u001b[1;32m     17\u001b[0m             \u001b[0mpygame\u001b[0m\u001b[1;33m.\u001b[0m\u001b[0mquit\u001b[0m\u001b[1;33m(\u001b[0m\u001b[1;33m)\u001b[0m\u001b[1;33m\u001b[0m\u001b[0m\n\u001b[0;32m---> 18\u001b[0;31m             \u001b[0msys\u001b[0m\u001b[1;33m.\u001b[0m\u001b[0mexit\u001b[0m\u001b[1;33m(\u001b[0m\u001b[1;33m)\u001b[0m\u001b[1;33m\u001b[0m\u001b[0m\n\u001b[0m\u001b[1;32m     19\u001b[0m \u001b[1;33m\u001b[0m\u001b[0m\n\u001b[1;32m     20\u001b[0m     \u001b[0mx\u001b[0m\u001b[1;33m-=\u001b[0m \u001b[1;36m0.2\u001b[0m\u001b[1;33m\u001b[0m\u001b[0m\n",
      "\u001b[0;31mNameError\u001b[0m: name 'sys' is not defined"
     ]
    }
   ],
   "source": [
    "\n",
    "SCREEN_SIZE = (640, 480)\n",
    "message=\" This is a demonstration of the scrolly message script. \"\n",
    "import pygame\n",
    "from pygame.locals import *\n",
    "from sys import exit\n",
    "pygame.init()\n",
    "screen = pygame.display.set_mode(SCREEN_SIZE)\n",
    "font = pygame.font.SysFont(\"arial\", 80);\n",
    "text_surface = font.render(message, True, (0, 0, 255))\n",
    "x = 0\n",
    "y = ( SCREEN_SIZE[1] - text_surface.get_height() ) / 2\n",
    "\n",
    "while True:\n",
    "    for event in pygame.event.get():\n",
    "        if event.type == QUIT:\n",
    "            pygame.quit()\n",
    "            sys.exit()\n",
    "    \n",
    "    x-= 0.2\n",
    "    if x < -text_surface.get_width():\n",
    "        x = 0\n",
    "    screen.fill((0,0,0))\n",
    "    screen.blit(text_surface, (x, y))\n",
    "#    screen.blit(text_surface, (x+text_surface.get_width(), y))\n",
    "    pygame.display.update()"
   ]
  },
  {
   "cell_type": "code",
   "execution_count": null,
   "metadata": {
    "collapsed": false
   },
   "outputs": [],
   "source": [
    "import numpy as np\n",
    "import matplotlib.pyplot as plt\n",
    "\n",
    "x = np.arange(20)\n",
    "np.random.shuffle(x)\n",
    "x = x.reshape(4,5)\n",
    "x\n"
   ]
  },
  {
   "cell_type": "code",
   "execution_count": null,
   "metadata": {
    "collapsed": false
   },
   "outputs": [],
   "source": [
    "x.sort()\n",
    "x.sort(axis=0)\n",
    "x"
   ]
  },
  {
   "cell_type": "code",
   "execution_count": null,
   "metadata": {
    "collapsed": false,
    "scrolled": true
   },
   "outputs": [],
   "source": [
    "x = np.arange(-2,1,0.001)\n",
    "y = np.arange(-1.5, 1.5, 0.001)[:,np.newaxis]\n",
    "y = 1j*y\n",
    "\n",
    "c = x + y\n",
    "z = 0 + 1j*0\n",
    "for i in range(50):\n",
    "    z = z**2 + c\n",
    "    \n",
    "mask = z < 100\n",
    "plt.figure(figsize = (40,40))\n",
    "plt.imshow(mask, extent=[-2, 1, -1.5, 1.5])\n",
    "plt.gray()\n",
    "plt.show()"
   ]
  },
  {
   "cell_type": "code",
   "execution_count": null,
   "metadata": {
    "collapsed": false
   },
   "outputs": [],
   "source": [
    "#Mandelbrot's Set\n",
    "x = np.arange(-1.75,0.75,0.0005)\n",
    "y = np.arange(-1.25, 1.25, 0.0005)[:,np.newaxis]\n",
    "y = 1j*y\n",
    "\n",
    "c = x + y\n",
    "z = 0 + 1j*0\n",
    "for i in range(50):\n",
    "    z = z**2 + c\n",
    "    \n",
    "mask = z < 100\n"
   ]
  },
  {
   "cell_type": "code",
   "execution_count": null,
   "metadata": {
    "collapsed": false,
    "scrolled": true
   },
   "outputs": [],
   "source": [
    "import matplotlib.image as mpimg\n",
    "plt.figure(figsize = (20,20))\n",
    "plt.imshow(mask, extent=[-2, 1, -1.5, 1.5])\n",
    "\n",
    "plt.show()\n",
    "mpimg.imsave('fractal.png', mask)\n"
   ]
  },
  {
   "cell_type": "code",
   "execution_count": null,
   "metadata": {
    "collapsed": false
   },
   "outputs": [],
   "source": [
    "#Mandelbrot's Set\n",
    "%matplotlib inline\n",
    "import numpy as np\n",
    "import matplotlib.pyplot as plt\n",
    "import matplotlib.image as mpimg\n",
    "\n",
    "x = np.arange(-1.75,0.75,0.001)\n",
    "y = np.arange(-1.25, 1.25, 0.001)[:,np.newaxis]\n",
    "y = 1j*y\n",
    "\n",
    "c = x + y\n",
    "z = 0 + 1j*0\n",
    "for i in range(40):\n",
    "    z = z**2 + c\n",
    "    \n",
    "mask = np.absolute(z) < 100\n",
    "plt.figure(figsize = (20,20))\n",
    "plt.imshow(mask, extent=[-2, 1, -1.5, 1.5])\n",
    "\n"
   ]
  },
  {
   "cell_type": "code",
   "execution_count": null,
   "metadata": {
    "collapsed": true
   },
   "outputs": [],
   "source": [
    "import numpy as np\n",
    "import matplotlib.pyplot as plt\n",
    "\n",
    "for i in r"
   ]
  }
 ],
 "metadata": {
  "kernelspec": {
   "display_name": "Python 3",
   "language": "python",
   "name": "python3"
  },
  "language_info": {
   "codemirror_mode": {
    "name": "ipython",
    "version": 3
   },
   "file_extension": ".py",
   "mimetype": "text/x-python",
   "name": "python",
   "nbconvert_exporter": "python",
   "pygments_lexer": "ipython3",
   "version": "3.6.0"
  }
 },
 "nbformat": 4,
 "nbformat_minor": 2
}
