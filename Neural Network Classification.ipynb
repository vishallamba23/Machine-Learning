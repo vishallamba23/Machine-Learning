{
 "cells": [
  {
   "cell_type": "code",
   "execution_count": 177,
   "metadata": {
    "collapsed": false
   },
   "outputs": [
    {
     "data": {
      "text/plain": [
       "((100, 3), (100, 1))"
      ]
     },
     "execution_count": 177,
     "metadata": {},
     "output_type": "execute_result"
    }
   ],
   "source": [
    "import numpy as np\n",
    "import pandas as pd\n",
    "import matplotlib.pyplot as plt\n",
    "\n",
    "data = pd.read_csv('logistic.txt', header=None, names = ['Exam1', 'Exam2', 'Admitted'])\n",
    "data.insert(0, 'Ones', 1)\n",
    "\n",
    "cols = data.shape[1]\n",
    "\n",
    "X = data.iloc[:,:cols-1]\n",
    "Y = data.iloc[:,cols-1:cols]\n",
    "\n",
    "\n",
    "X = np.matrix(X)\n",
    "Y = np.matrix(Y)\n",
    "\n",
    "X1 = X.copy()\n",
    "\n",
    "X1 = (X1[:,1:] - X1.mean(axis=0)[:,1:])/X1.std(axis=0)[:,1:]\n",
    "\n",
    "X[:,1:] = X1\n",
    "X.shape, Y.shape"
   ]
  },
  {
   "cell_type": "code",
   "execution_count": 178,
   "metadata": {
    "collapsed": false
   },
   "outputs": [
    {
     "data": {
      "text/plain": [
       "(100, 2)"
      ]
     },
     "execution_count": 178,
     "metadata": {},
     "output_type": "execute_result"
    }
   ],
   "source": [
    "from sklearn.preprocessing import OneHotEncoder\n",
    "encoder = OneHotEncoder(sparse=False)\n",
    "Y_onehot = encoder.fit_transform(Y)\n",
    "Y_onehot.shape"
   ]
  },
  {
   "cell_type": "code",
   "execution_count": 179,
   "metadata": {
    "collapsed": true
   },
   "outputs": [],
   "source": [
    "def sigmoid(z):\n",
    "    \n",
    "    return 1/(1 + np.exp(-z))"
   ]
  },
  {
   "cell_type": "code",
   "execution_count": 180,
   "metadata": {
    "collapsed": true
   },
   "outputs": [],
   "source": [
    "def forward_prop(X, theta1, theta2):\n",
    "    \n",
    "    X = np.matrix(X)\n",
    "    theta1 = np.matrix(theta1)\n",
    "    theta2 = np.matrix(theta2)\n",
    "    m = X.shape[0]\n",
    "    \n",
    "    a1 = X\n",
    "    z2 = a1 * (theta1.T)\n",
    "    a2 = np.insert(sigmoid(z2), 0, np.ones(m), axis=1)\n",
    "    z3 = a2 * (theta2.T)\n",
    "    hx = sigmoid(z3)\n",
    "    \n",
    "    return a1, z2, a2, z3, hx\n",
    "    \n"
   ]
  },
  {
   "cell_type": "code",
   "execution_count": 181,
   "metadata": {
    "collapsed": true
   },
   "outputs": [],
   "source": [
    "def cost(params, X, Y, input_size, hidden_size, num_labels, learning_rate):\n",
    "    \n",
    "    X = np.matrix(X)\n",
    "    Y = np.matrix(Y)\n",
    "    m = X.shape[0]\n",
    "    \n",
    "    theta1 = np.matrix(np.reshape(params[:((input_size + 1) * hidden_size)], (hidden_size, input_size + 1)))\n",
    "    theta2 = np.matrix(np.reshape(params[(input_size + 1) * hidden_size:], (num_labels, hidden_size + 1)))\n",
    "    \n",
    "    a1, z2, a2, z3, hx = forward_prop(X, theta1, theta2)\n",
    "    \n",
    "    J = 0\n",
    "    \n",
    "    for i in range(m):\n",
    "        \n",
    "        sum1 = -(Y[i,:]) * (np.log(hx[i,:]).T)\n",
    "        sum2 = (1 - Y[i,:]) * (np.log(1 - hx[i,:])).T\n",
    "        \n",
    "        J += np.sum(sum1 - sum2)\n",
    "        \n",
    "    J = J/m\n",
    "    \n",
    "    J += (float(learning_rate) / (2 * m)) * (np.sum(np.power(theta1[:,1:], 2)) + np.sum(np.power(theta2[:,1:], 2)))\n",
    "    \n",
    "    return J\n",
    "           "
   ]
  },
  {
   "cell_type": "code",
   "execution_count": 182,
   "metadata": {
    "collapsed": true
   },
   "outputs": [],
   "source": [
    "input_size = 2\n",
    "hidden_size = 20\n",
    "num_labels = 2\n",
    "learning_rate = 6"
   ]
  },
  {
   "cell_type": "code",
   "execution_count": 183,
   "metadata": {
    "collapsed": false
   },
   "outputs": [
    {
     "data": {
      "text/plain": [
       "(1.4455919675261564, (102,))"
      ]
     },
     "execution_count": 183,
     "metadata": {},
     "output_type": "execute_result"
    }
   ],
   "source": [
    "params = (np.random.random(size = hidden_size*(input_size + 1) + num_labels*(hidden_size + 1)) - 0.5)*0.25\n",
    "cost(params, X, Y_onehot, input_size, hidden_size, num_labels, learning_rate), params.shape"
   ]
  },
  {
   "cell_type": "code",
   "execution_count": 184,
   "metadata": {
    "collapsed": true
   },
   "outputs": [],
   "source": [
    "def sigmoid_gradient(z):\n",
    "    \n",
    "    return np.multiply(sigmoid(z), (1 - sigmoid(z)))"
   ]
  },
  {
   "cell_type": "code",
   "execution_count": 185,
   "metadata": {
    "collapsed": true
   },
   "outputs": [],
   "source": [
    "def backprop(params, input_size, hidden_size, num_labels, X, Y, learning_rate):\n",
    "    X = np.matrix(X)\n",
    "    Y = np.matrix(Y)\n",
    "    m = X.shape[0]\n",
    "    \n",
    "    theta1 = np.matrix(np.reshape(params[:(input_size + 1)*hidden_size], (hidden_size, (input_size + 1))))\n",
    "    theta2 = np.matrix(np.reshape(params[hidden_size*(input_size + 1):], (num_labels, (hidden_size +1))))\n",
    "    \n",
    "    a1, z2, a2, z3 ,hx = forward_prop(X, theta1, theta2)\n",
    "    \n",
    "    delta1 = np.zeros(theta1.shape)\n",
    "    delta2 = np.zeros(theta2.shape)\n",
    "    \n",
    "    J = 0\n",
    "    for i in range(m):\n",
    "        sum1 = np.multiply(-Y[i,:], np.log(hx[i,:]))\n",
    "        sum2 = np.multiply((1-Y[i,:]), np.log(1 - hx[i,:]))\n",
    "        \n",
    "        J += np.sum(sum1 - sum2)\n",
    "        \n",
    "    J = J/m\n",
    "    \n",
    "    J += (float(learning_rate) / (2 * m)) * (np.sum(np.power(theta1[:,1:], 2)) + np.sum(np.power(theta2[:,1:], 2)))\n",
    "    \n",
    "    for t in range(m):\n",
    "        a1t = a1[t,:]\n",
    "        z2t = z2[t,:]\n",
    "        a2t = a2[t,:]\n",
    "        hxt = hx[t,:]\n",
    "        Yt  = Y[t,:]\n",
    "        \n",
    "        d3t = hxt - Yt\n",
    "        \n",
    "#        z2t = np.insert(z2t, 0, values=np.ones(1))\n",
    "        d2t = np.multiply((d3t * theta2[:,1:]), sigmoid_gradient(z2t))\n",
    "        \n",
    "        delta1 = delta1 + d2t.T * a1t\n",
    "        delta2 = delta2 + d3t.T * a2t\n",
    "        \n",
    "    delta1 = delta1 / m\n",
    "    delta2 = delta2 / m\n",
    "        \n",
    "    delta1[:,1:] = delta1[:,1:] + (theta1[:,1:] * learning_rate) / m\n",
    "    delta2[:,1:] = delta2[:,1:] + (theta2[:,1:] * learning_rate) / m\n",
    "        \n",
    "        \n",
    "    grad = np.concatenate((np.ravel(delta1), np.ravel(delta2)))\n",
    "    \n",
    "    return J, grad\n",
    "           "
   ]
  },
  {
   "cell_type": "code",
   "execution_count": 186,
   "metadata": {
    "collapsed": false
   },
   "outputs": [
    {
     "data": {
      "text/plain": [
       "(1.4455919675261564, (102,))"
      ]
     },
     "execution_count": 186,
     "metadata": {},
     "output_type": "execute_result"
    }
   ],
   "source": [
    "J, grad = backprop(params, input_size, hidden_size, num_labels, X, Y_onehot, learning_rate)\n",
    "J, grad.shape"
   ]
  },
  {
   "cell_type": "code",
   "execution_count": 172,
   "metadata": {
    "collapsed": false
   },
   "outputs": [
    {
     "data": {
      "text/plain": [
       "1.1596101472469078"
      ]
     },
     "execution_count": 172,
     "metadata": {},
     "output_type": "execute_result"
    }
   ],
   "source": [
    "from scipy.optimize import minimize\n",
    "fmin = minimize(fun=backprop, x0=params, args=(input_size, hidden_size, num_labels, X, Y_onehot, learning_rate), \n",
    "                method='TNC', jac=True, options={'maxiter': 250})\n",
    "fmin.fun"
   ]
  },
  {
   "cell_type": "code",
   "execution_count": 173,
   "metadata": {
    "collapsed": false
   },
   "outputs": [],
   "source": [
    "X = np.matrix(X)\n",
    "theta1 = np.matrix(np.reshape(fmin.x[:hidden_size * (input_size + 1)], (hidden_size, (input_size + 1))))\n",
    "theta2 = np.matrix(np.reshape(fmin.x[hidden_size * (input_size + 1):], (num_labels, (hidden_size + 1))))\n",
    "\n",
    "a1, z2, a2, z3, h = forward_prop(X, theta1, theta2)\n",
    "y_pred = np.array(np.argmax(h, axis=1))\n"
   ]
  },
  {
   "cell_type": "code",
   "execution_count": 174,
   "metadata": {
    "collapsed": false
   },
   "outputs": [
    {
     "data": {
      "text/plain": [
       "8.0"
      ]
     },
     "execution_count": 174,
     "metadata": {},
     "output_type": "execute_result"
    }
   ],
   "source": [
    "np.sum(np.fabs(Y - y_pred))"
   ]
  },
  {
   "cell_type": "code",
   "execution_count": null,
   "metadata": {
    "collapsed": false
   },
   "outputs": [],
   "source": []
  }
 ],
 "metadata": {
  "kernelspec": {
   "display_name": "Python 3",
   "language": "python",
   "name": "python3"
  },
  "language_info": {
   "codemirror_mode": {
    "name": "ipython",
    "version": 3
   },
   "file_extension": ".py",
   "mimetype": "text/x-python",
   "name": "python",
   "nbconvert_exporter": "python",
   "pygments_lexer": "ipython3",
   "version": "3.6.0"
  }
 },
 "nbformat": 4,
 "nbformat_minor": 2
}
