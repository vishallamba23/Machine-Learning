{
 "cells": [
  {
   "cell_type": "code",
   "execution_count": 1,
   "metadata": {
    "collapsed": false
   },
   "outputs": [],
   "source": [
    "import numpy as np\n",
    "import pandas as pd\n",
    "import matplotlib.pyplot as plt\n",
    "\n",
    "data = pd.read_csv('logistic.txt',  header = None, names = ['Exam1', 'Exam2', 'Admitted'])\n",
    "data.insert(0, 'Ones', 1)\n",
    "\n",
    "cols = data.shape[1]\n",
    "\n",
    "X = data.iloc[:,:cols-1]\n",
    "Y = data.iloc[:,cols-1:cols]\n",
    "\n",
    "\n",
    "X = np.matrix(X)\n",
    "Y = np.matrix(Y)\n",
    "\n",
    "X1 = X.copy()\n",
    "\n",
    "X1 = (X1[:,1:] - X1.mean(axis=0)[:,1:])/X1.std(axis=0)[:,1:]\n",
    "\n",
    "X[:,1:] = X1"
   ]
  },
  {
   "cell_type": "code",
   "execution_count": 2,
   "metadata": {
    "collapsed": true
   },
   "outputs": [],
   "source": [
    "def sigmoid(z):\n",
    "    return 1/(1 + np.exp(-z))"
   ]
  },
  {
   "cell_type": "code",
   "execution_count": 7,
   "metadata": {
    "collapsed": false
   },
   "outputs": [],
   "source": [
    "def cost(theta, X, Y):\n",
    "    X = np.matrix(X)\n",
    "    Y = np.matrix(Y)\n",
    "    theta = np.matrix(theta)\n",
    "    m = X.shape[0]\n",
    "    hx = sigmoid(X*(theta.T))\n",
    "    \n",
    "    sum1 = -(Y.T)*np.log(hx)\n",
    "    sum2 = (1-Y).T*np.log(1-hx)\n",
    "    \n",
    "    return np.sum((sum1 - sum2))/m"
   ]
  },
  {
   "cell_type": "code",
   "execution_count": 8,
   "metadata": {
    "collapsed": false
   },
   "outputs": [
    {
     "data": {
      "text/plain": [
       "0.69314718055994518"
      ]
     },
     "execution_count": 8,
     "metadata": {},
     "output_type": "execute_result"
    }
   ],
   "source": [
    "theta = np.matrix([0,0,0])\n",
    "cost(theta, X, Y)\n"
   ]
  },
  {
   "cell_type": "code",
   "execution_count": 9,
   "metadata": {
    "collapsed": false
   },
   "outputs": [],
   "source": [
    "def gradient_descent(theta, X, Y):\n",
    "    X = np.matrix(X)\n",
    "    Y = np.matrix(Y)\n",
    "    theta = np.matrix(theta)\n",
    "    m = X.shape[0]\n",
    "    hx = sigmoid(X*(theta.T))\n",
    "    \n",
    "    grad = (np.zeros(theta.ravel().shape[1]))\n",
    "    \n",
    "    error = hx - Y\n",
    "    \n",
    "    for i in range(X.shape[1]):\n",
    "        temp = np.multiply(error, X[:,i])\n",
    "        grad[i] = np.sum(temp)/X.shape[0]\n",
    "        \n",
    "    return np.matrix(grad)\n"
   ]
  },
  {
   "cell_type": "code",
   "execution_count": 19,
   "metadata": {
    "collapsed": false
   },
   "outputs": [
    {
     "name": "stdout",
     "output_type": "stream",
     "text": [
      "0.224467013742\n"
     ]
    },
    {
     "data": {
      "text/plain": [
       "(None, matrix([[ 1.00387456,  2.49051514,  2.27703316]]))"
      ]
     },
     "execution_count": 19,
     "metadata": {},
     "output_type": "execute_result"
    }
   ],
   "source": [
    "\"\"\"\"\n",
    "cost(theta, X, Y)\n",
    "for i in range(10000):\n",
    "    grad = gradient_descent(theta, X, Y)\n",
    "    theta = theta - 0.005*grad\n",
    "print(cost(theta, X, Y)), theta\n"
   ]
  },
  {
   "cell_type": "code",
   "execution_count": 10,
   "metadata": {
    "collapsed": false
   },
   "outputs": [],
   "source": [
    "import scipy.optimize as opt\n",
    "result = opt.fmin_tnc(func=cost, x0=theta, fprime=gradient_descent, args=(X, Y))\n",
    "theta = np.matrix(result[0])\n",
    "print(cost(theta, X, Y)), theta"
   ]
  },
  {
   "cell_type": "code",
   "execution_count": 11,
   "metadata": {
    "collapsed": false
   },
   "outputs": [
    {
     "data": {
      "text/plain": [
       "11.0"
      ]
     },
     "execution_count": 11,
     "metadata": {},
     "output_type": "execute_result"
    }
   ],
   "source": [
    "probs = sigmoid(X*(theta.T))\n",
    "predictions = sigmoid(X*(theta.T))\n",
    "for i in range(100):\n",
    "    if predictions[i] >= 0.5:\n",
    "        predictions[i] = 1\n",
    "    else:\n",
    "        predictions[i] = 0\n",
    "        \n",
    "np.sum(np.fabs(predictions - Y))"
   ]
  },
  {
   "cell_type": "code",
   "execution_count": 8,
   "metadata": {
    "collapsed": false
   },
   "outputs": [
    {
     "data": {
      "image/png": "[encoded data removed]",
      "text/plain": [
       "<matplotlib.figure.Figure at 0x253eb6b8b70>"
      ]
     },
     "metadata": {},
     "output_type": "display_data"
    },
    {
     "data": {
      "image/png": "[encoded data removed]",
      "text/plain": [
       "<matplotlib.figure.Figure at 0x253ebae57f0>"
      ]
     },
     "metadata": {},
     "output_type": "display_data"
    }
   ],
   "source": [
    "X = data.iloc[:,1:cols-1]\n",
    "Y = data.iloc[:,cols-1:cols]\n",
    "\n",
    "X = np.array(X)\n",
    "Y = np.array(Y)\n",
    "\n",
    "mask = np.array(predictions == 0).reshape(-1)\n",
    "x = X[mask]\n",
    "mask = np.array(predictions == 1).reshape(-1)\n",
    "y = X[mask]\n",
    "\n",
    "\n",
    "\n",
    "mask = np.array(Y == 0).reshape(-1)\n",
    "x1 = X[mask]\n",
    "mask = np.array(Y == 1).reshape(-1)\n",
    "y1 = X[mask]\n",
    "\n",
    "\n",
    "plt.subplot(111)\n",
    "plt.scatter(x[:,0], x[:,1])\n",
    "plt.scatter(y[:,0], y[:,1])\n",
    "plt.show()\n",
    "plt.subplot(111)\n",
    "plt.scatter(x1[:,0], x1[:,1])\n",
    "plt.scatter(y1[:,0], y1[:,1])\n",
    "plt.show()\n",
    "\n",
    "\n"
   ]
  },
  {
   "cell_type": "code",
   "execution_count": null,
   "metadata": {
    "collapsed": true
   },
   "outputs": [],
   "source": []
  },
  {
   "cell_type": "code",
   "execution_count": 9,
   "metadata": {
    "collapsed": false
   },
   "outputs": [],
   "source": [
    "def prediction(X,theta):\n",
    "    probs = sigmoid(X*(theta.T))\n",
    "    predictions = sigmoid(X*(theta.T))\n",
    "    for i in range(100):\n",
    "        if predictions[i] >= 0.5:\n",
    "            predictions[i] = 1\n",
    "        else:\n",
    "            predictions[i] = 0\n",
    "    \n",
    "    return predictions\n"
   ]
  },
  {
   "cell_type": "code",
   "execution_count": 21,
   "metadata": {
    "collapsed": false
   },
   "outputs": [
    {
     "data": {
      "text/plain": [
       "11.0"
      ]
     },
     "execution_count": 21,
     "metadata": {},
     "output_type": "execute_result"
    }
   ],
   "source": [
    "np.sum(np.fabs(predictions - Y))"
   ]
  }
 ],
 "metadata": {
  "kernelspec": {
   "display_name": "Python 3",
   "language": "python",
   "name": "python3"
  },
  "language_info": {
   "codemirror_mode": {
    "name": "ipython",
    "version": 3
   },
   "file_extension": ".py",
   "mimetype": "text/x-python",
   "name": "python",
   "nbconvert_exporter": "python",
   "pygments_lexer": "ipython3",
   "version": "3.6.0"
  }
 },
 "nbformat": 4,
 "nbformat_minor": 2
}
